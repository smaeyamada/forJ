{
 "cells": [
  {
   "cell_type": "markdown",
   "id": "473e12cf-b24d-4e9f-ab52-067b5c628ad1",
   "metadata": {},
   "source": [
    "Video 加工"
   ]
  },
  {
   "cell_type": "code",
   "execution_count": 5,
   "id": "5034c602-94af-4df0-bc34-30f702432225",
   "metadata": {
    "tags": []
   },
   "outputs": [],
   "source": [
    "from IPython.display import Video"
   ]
  },
  {
   "cell_type": "code",
   "execution_count": 26,
   "id": "3abda32f-a37c-41be-ba2e-83307630d24f",
   "metadata": {},
   "outputs": [],
   "source": [
    "source = \"./ONE OK ROCK_The Way Back.mp4\"\n",
    "tmp_dir = './data/tmp_dir/'\n",
    "os.makedirs(tmp_dir, exist_ok=True)"
   ]
  },
  {
   "cell_type": "code",
   "execution_count": null,
   "id": "9b8c4eba-959a-455a-b212-273b93442456",
   "metadata": {
    "tags": []
   },
   "outputs": [],
   "source": [
    "Video(source)"
   ]
  },
  {
   "cell_type": "code",
   "execution_count": 59,
   "id": "92547397-7522-4ba3-bcd8-97ce059f7806",
   "metadata": {
    "tags": []
   },
   "outputs": [],
   "source": [
    "import pandas as pd\n",
    "import numpy as np\n",
    "import datetime\n",
    "import cv2, io, os\n",
    "import matplotlib.pyplot as plt\n",
    "from glob import glob\n",
    "from tqdm import tqdm"
   ]
  },
  {
   "cell_type": "code",
   "execution_count": 145,
   "id": "a8d9cb4b-4282-4dc3-a8ec-fffc4cc6c8e4",
   "metadata": {},
   "outputs": [
    {
     "name": "stdout",
     "output_type": "stream",
     "text": [
      "frame 5442\n",
      " (720,480)\n",
      "FPS 29.97002997002997\n"
     ]
    }
   ],
   "source": [
    "cap = cv2.VideoCapture(source)\n",
    "\n",
    "frames = int(cap.get(cv2.CAP_PROP_FRAME_COUNT))\n",
    "width = int(cap.get(cv2.CAP_PROP_FRAME_WIDTH))\n",
    "height = int(cap.get(cv2.CAP_PROP_FRAME_HEIGHT))\n",
    "FPS = cap.get(cv2.CAP_PROP_FPS)\n",
    "print('frame', frames)\n",
    "print(' (%d,%d)' % (width, height))\n",
    "print('FPS', FPS)\n",
    "cap.release()"
   ]
  },
  {
   "cell_type": "code",
   "execution_count": 12,
   "id": "01c708f3-31d3-45d0-a71d-310595ca7a19",
   "metadata": {},
   "outputs": [],
   "source": [
    "area = [[0, 0], [400, 300]]"
   ]
  },
  {
   "cell_type": "code",
   "execution_count": 31,
   "id": "303c7ca6-d05d-42bc-a91d-5cbd1f472ba6",
   "metadata": {},
   "outputs": [
    {
     "name": "stdout",
     "output_type": "stream",
     "text": [
      "[ 299  599  899 1198 1498]\n"
     ]
    },
    {
     "data": {
      "text/plain": [
       "5"
      ]
     },
     "execution_count": 31,
     "metadata": {},
     "output_type": "execute_result"
    }
   ],
   "source": [
    "check_arr = (np.array(range(10,60,10)) * FPS).astype(int)\n",
    "print(check_arr)\n",
    "len(check_arr)"
   ]
  },
  {
   "cell_type": "code",
   "execution_count": 25,
   "id": "bea1c212-0142-44e9-813e-ca49e2c54175",
   "metadata": {},
   "outputs": [
    {
     "name": "stdout",
     "output_type": "stream",
     "text": [
      "True\n",
      "True\n",
      "True\n",
      "True\n"
     ]
    }
   ],
   "source": [
    "cap = cv2.VideoCapture(source)\n",
    "for fno in range(frames):\n",
    "    is_ok, frame = cap.read()\n",
    "    if fno in check_arr:\n",
    "        gray_full = cv2.cvtColor(frame, cv2.COLOR_BGR2GRAY)\n",
    "        gray_area = gray_full[area[0][1]:area[1][1], area[0][0]:area[1][0]]\n",
    "        cv2.imwrite(f'{tmp_dir}/{fno:06d}_gray.jpg', gray_area)\n",
    "cap.release()"
   ]
  },
  {
   "cell_type": "code",
   "execution_count": null,
   "id": "179ff767-22ba-4ecb-af15-1b46997f8959",
   "metadata": {},
   "outputs": [],
   "source": [
    "n = 600\n",
    "x0 = np.append([0], np.random.randint(-5, 5, n-1)).cumsum()\n",
    "y0 = np.linspace(0, n-1, num=n)"
   ]
  },
  {
   "cell_type": "code",
   "execution_count": 163,
   "id": "3fd86c35-117a-4628-8d4e-4e0bcaaa1cdb",
   "metadata": {},
   "outputs": [],
   "source": [
    "df = pd.DataFrame({\"x\": x0, \"y\": y0})\n",
    "df[\"abs_t\"] = np.linspace(0, 0.025*(len(x0)-1), len(x0))\n",
    "\n",
    "df_obj = pd.DataFrame({\"x\": [], \"y\": [], \"obj_idx\": []})"
   ]
  },
  {
   "cell_type": "code",
   "execution_count": 164,
   "id": "5331836c-2cfe-4680-b88e-3749e5ab0a58",
   "metadata": {},
   "outputs": [
    {
     "data": {
      "text/html": [
       "<div>\n",
       "<style scoped>\n",
       "    .dataframe tbody tr th:only-of-type {\n",
       "        vertical-align: middle;\n",
       "    }\n",
       "\n",
       "    .dataframe tbody tr th {\n",
       "        vertical-align: top;\n",
       "    }\n",
       "\n",
       "    .dataframe thead th {\n",
       "        text-align: right;\n",
       "    }\n",
       "</style>\n",
       "<table border=\"1\" class=\"dataframe\">\n",
       "  <thead>\n",
       "    <tr style=\"text-align: right;\">\n",
       "      <th></th>\n",
       "      <th>x</th>\n",
       "      <th>y</th>\n",
       "      <th>abs_t</th>\n",
       "    </tr>\n",
       "  </thead>\n",
       "  <tbody>\n",
       "    <tr>\n",
       "      <th>0</th>\n",
       "      <td>0</td>\n",
       "      <td>0.0</td>\n",
       "      <td>0.000</td>\n",
       "    </tr>\n",
       "    <tr>\n",
       "      <th>1</th>\n",
       "      <td>0</td>\n",
       "      <td>1.0</td>\n",
       "      <td>0.025</td>\n",
       "    </tr>\n",
       "    <tr>\n",
       "      <th>2</th>\n",
       "      <td>-4</td>\n",
       "      <td>2.0</td>\n",
       "      <td>0.050</td>\n",
       "    </tr>\n",
       "  </tbody>\n",
       "</table>\n",
       "</div>"
      ],
      "text/plain": [
       "   x    y  abs_t\n",
       "0  0  0.0  0.000\n",
       "1  0  1.0  0.025\n",
       "2 -4  2.0  0.050"
      ]
     },
     "execution_count": 164,
     "metadata": {},
     "output_type": "execute_result"
    }
   ],
   "source": [
    "df.head(3)"
   ]
  },
  {
   "cell_type": "code",
   "execution_count": 165,
   "id": "d172e20e-8b94-4372-a755-259a4bb29e22",
   "metadata": {},
   "outputs": [],
   "source": [
    "def make_trend_all(ego_xy, obj_):\n",
    "    \"\"\"トレンド生成\"\"\"\n",
    "    x0, y0 = ego_xy.values.T\n",
    "    \n",
    "    fig, ax = plt.subplots(1, 1, figsize=(2, 6))\n",
    "    ax.plot(x0, y0)\n",
    "    ax.set_xlabel(\"x\", size=10)\n",
    "    ax.set_ylabel(\"y(t)\", size=10)\n",
    "    ax.grid()\n",
    "    return fig, ax"
   ]
  },
  {
   "cell_type": "code",
   "execution_count": 189,
   "id": "1be28a51-141c-4227-a482-4fafc0be570a",
   "metadata": {},
   "outputs": [],
   "source": [
    "def make_trend_frame(fno, fig, ax):\n",
    "    \"\"\"対象フレームのトレンド生成\n",
    "    一枚ずつ作成ではなく、長いグラフ(画像)を切って使う？ (軸も切れるけど)\n",
    "    ⇒ 切る位置がシビアなので、長いグラフ案は却下。\n",
    "    イメージだけ作っておいて、axhlineとxlim,ylimで表示位置確定させる\n",
    "    \"\"\"\n",
    "    hline = fno * 1 / out_fps    # 恐らく時間軸\n",
    "    ymin = hline - 20 if hline > 20 else 0\n",
    "    ymax = ymin + 40\n",
    "    ax.axhline(hline, color='black', linestyle=\"dotted\")\n",
    "    ax.set_ylim(ymin, ymax)    \n",
    "    fig.tight_layout()\n",
    "\n",
    "    fig.canvas.draw()    # Figure をレンダリング\n",
    "    data = np.array(fig.canvas.renderer.buffer_rgba())    # 画像をバイト列で取得\n",
    "    w, h = fig.canvas.get_width_height()    # 画像の大きさを取得\n",
    "    plt.close()\n",
    "    return data"
   ]
  },
  {
   "cell_type": "code",
   "execution_count": 190,
   "id": "3ba1d2d9-51ab-4196-af81-39ae08ad17bf",
   "metadata": {},
   "outputs": [
    {
     "name": "stdout",
     "output_type": "stream",
     "text": [
      "(600, 200, 4)\n"
     ]
    },
    {
     "data": {
      "image/png": "[encoded data removed]",
      "text/plain": [
       "<Figure size 640x480 with 1 Axes>"
      ]
     },
     "metadata": {},
     "output_type": "display_data"
    }
   ],
   "source": [
    "fig, ax = make_trend_all(df[[\"x\", \"y\"]], [])\n",
    "fno = 200\n",
    "data = make_trend_frame(fno, fig, ax)\n",
    "print(data.shape)\n",
    "plt.imshow(data)\n",
    "plt.show()"
   ]
  },
  {
   "cell_type": "markdown",
   "id": "841f977b-e5d1-47c3-86fb-1ded6c7e7a54",
   "metadata": {},
   "source": [
    "0.025sec = 40FPS になってしまうので、ファイルサイズも考慮して間引く"
   ]
  },
  {
   "cell_type": "code",
   "execution_count": 148,
   "id": "49b98063-7986-4e41-9558-36add2e29c2b",
   "metadata": {},
   "outputs": [
    {
     "data": {
      "text/plain": [
       "0.06673333333333334"
      ]
     },
     "execution_count": 148,
     "metadata": {},
     "output_type": "execute_result"
    }
   ],
   "source": [
    "2/FPS"
   ]
  },
  {
   "cell_type": "code",
   "execution_count": null,
   "id": "1976a969-8d16-408a-8dca-921ba856198b",
   "metadata": {},
   "outputs": [],
   "source": [
    "ax0.set_xlim"
   ]
  },
  {
   "cell_type": "code",
   "execution_count": 149,
   "id": "5059177b-c0ee-4e9b-9da4-3f6a1d24a8f7",
   "metadata": {},
   "outputs": [
    {
     "name": "stdout",
     "output_type": "stream",
     "text": [
      "0 0.0\n",
      "2 0.13346666666666668\n",
      "4 0.26693333333333336\n",
      "6 0.40040000000000003\n",
      "8 0.5338666666666667\n",
      "10 0.6673333333333333\n",
      "12 0.8008000000000001\n",
      "14 0.9342666666666668\n",
      "16 1.0677333333333334\n",
      "18 1.2012\n",
      "20 1.3346666666666667\n",
      "22 1.4681333333333335\n",
      "24 1.6016000000000001\n",
      "26 1.7350666666666668\n",
      "28 1.8685333333333336\n"
     ]
    }
   ],
   "source": [
    "out_fps = FPS / 2    # 1frame跳ばし\n",
    "div_t = 1 / out_fps    # 2frameずつ(=1frame跳ばし)の時間\n",
    "for fno in range(30):\n",
    "    if fno % 2 == 0:\n",
    "        print(fno, div_t * fno)"
   ]
  },
  {
   "cell_type": "code",
   "execution_count": 139,
   "id": "ce657289-f561-43b8-8c2a-f6bbb7b20037",
   "metadata": {},
   "outputs": [
    {
     "data": {
      "text/plain": [
       "1.2"
      ]
     },
     "execution_count": 139,
     "metadata": {},
     "output_type": "execute_result"
    }
   ],
   "source": [
    "FPS/out_fps"
   ]
  },
  {
   "cell_type": "code",
   "execution_count": 152,
   "id": "8e6f6010-e692-46a9-a711-4d96ce13f723",
   "metadata": {},
   "outputs": [
    {
     "data": {
      "image/png": "[encoded data removed]",
      "text/plain": [
       "<Figure size 200x600 with 1 Axes>"
      ]
     },
     "metadata": {},
     "output_type": "display_data"
    }
   ],
   "source": [
    "fig, ax0 = plt.subplots(1, 1, figsize=(2, 6))\n",
    "# fig = plt.figure(figsize=(3, 3))\n",
    "# ax0 = fig.add_subplot(111)\n",
    "ax0.plot(x0, y0)\n",
    "ax0.axhline(150, color='black', linestyle=\"dotted\")\n",
    "ax0.set_xlabel(\"x\", size=10)\n",
    "ax0.set_ylabel(\"y(t)\", size=10)\n",
    "# ax0.axis('square')\n",
    "ax0.grid()\n",
    "fig.tight_layout()\n",
    "plt.show()"
   ]
  },
  {
   "cell_type": "code",
   "execution_count": 124,
   "id": "58b9ea1b-0699-4d8e-8fb8-5e98ceb8403c",
   "metadata": {},
   "outputs": [],
   "source": [
    "# buf = io.BytesIO()    # メモリ上への仮保管先を生成\n",
    "# fig.savefig(buf, format='png', dpi=64)    # メモリ上に保存\n",
    "# buf.close()\n",
    "\n",
    "fname = \"./data/buf.png\"\n",
    "fig.savefig(fname)    # ファイルに保存\n",
    "img = plt.imread(fname)\n",
    "print(img.shape)"
   ]
  },
  {
   "cell_type": "code",
   "execution_count": 153,
   "id": "4164103e-b80d-49a8-99b5-8c04e72f3f11",
   "metadata": {},
   "outputs": [
    {
     "name": "stdout",
     "output_type": "stream",
     "text": [
      "200 600\n"
     ]
    }
   ],
   "source": [
    "# https://pystyle.info/matplotlib-convert-figure-to-bytes-and-base64/\n",
    "# https://water2litter.net/rum/post/python_matplotlib_convert2array/\n",
    "fig.canvas.draw()    # Figure をレンダリングする。\n",
    "data = np.array(fig.canvas.renderer.buffer_rgba())    # 画像をバイト列で取得する。\n",
    "w, h = fig.canvas.get_width_height()    # 画像の大きさを取得する。\n",
    "print(w, h)\n",
    "# img = cv2.cvtColor(data, cv2.COLOR_RGBA2BGRA)    # RGB を BGR に変更する。\n",
    "# plt.close()"
   ]
  },
  {
   "cell_type": "code",
   "execution_count": 154,
   "id": "0cd3c864-10ca-45e6-ae35-8bba37e31bfc",
   "metadata": {},
   "outputs": [
    {
     "data": {
      "image/png": "[encoded data removed]",
      "text/plain": [
       "<Figure size 640x480 with 1 Axes>"
      ]
     },
     "metadata": {},
     "output_type": "display_data"
    }
   ],
   "source": [
    "plt.imshow(data)\n",
    "plt.show()"
   ]
  },
  {
   "cell_type": "code",
   "execution_count": 70,
   "id": "5817fbb3-bd1e-48e6-bfd7-58c7dab8739e",
   "metadata": {},
   "outputs": [
    {
     "data": {
      "text/plain": [
       "(300, 400, 3)"
      ]
     },
     "execution_count": 70,
     "metadata": {},
     "output_type": "execute_result"
    }
   ],
   "source": [
    "rescale.shape"
   ]
  },
  {
   "cell_type": "code",
   "execution_count": 103,
   "id": "583daf43-fea0-465e-ab7f-ee0879ebb044",
   "metadata": {},
   "outputs": [
    {
     "data": {
      "text/plain": [
       "array([[[0, 0, 0],\n",
       "        [0, 0, 0],\n",
       "        [0, 0, 0],\n",
       "        ...,\n",
       "        [0, 0, 0],\n",
       "        [0, 0, 0],\n",
       "        [0, 0, 0]],\n",
       "\n",
       "       [[0, 0, 0],\n",
       "        [0, 0, 0],\n",
       "        [0, 0, 0],\n",
       "        ...,\n",
       "        [0, 0, 0],\n",
       "        [0, 0, 0],\n",
       "        [0, 0, 0]],\n",
       "\n",
       "       [[0, 0, 0],\n",
       "        [0, 0, 0],\n",
       "        [0, 0, 0],\n",
       "        ...,\n",
       "        [0, 0, 0],\n",
       "        [0, 0, 0],\n",
       "        [0, 0, 0]]], dtype=uint8)"
      ]
     },
     "execution_count": 103,
     "metadata": {},
     "output_type": "execute_result"
    }
   ],
   "source": [
    "rescale[:3]"
   ]
  },
  {
   "cell_type": "code",
   "execution_count": 53,
   "id": "f6600535-3b8d-474b-9e25-536d0aa375ea",
   "metadata": {},
   "outputs": [
    {
     "name": "stderr",
     "output_type": "stream",
     "text": [
      "100% 300/300 [00:00<00:00, 1356.50it/s]\n"
     ]
    }
   ],
   "source": [
    "cap = cv2.VideoCapture(source)\n",
    "\n",
    "fourcc = cv2.VideoWriter_fourcc('m','p','4', 'v')\n",
    "writer = cv2.VideoWriter(f'./data/ImgVideo.mp4', fourcc, FPS, tuple(area[1]))\n",
    "\n",
    "for fno in tqdm(range(frames)[:300]):\n",
    "    is_ok, frame = cap.read()\n",
    "    if not is_ok: break\n",
    "    rescale = frame[area[0][1]:area[1][1], area[0][0]:area[1][0]]\n",
    "    writer.write(rescale)\n",
    "writer.release()\n",
    "cap.release()"
   ]
  },
  {
   "cell_type": "code",
   "execution_count": 17,
   "id": "c21a904a-a55f-448c-a9e1-01eec0f7e779",
   "metadata": {},
   "outputs": [
    {
     "data": {
      "text/plain": [
       "5394.605394605394"
      ]
     },
     "execution_count": 17,
     "metadata": {},
     "output_type": "execute_result"
    }
   ],
   "source": [
    "180*FPS"
   ]
  },
  {
   "cell_type": "code",
   "execution_count": null,
   "id": "928e66f5-b28d-499d-8384-e3a70b4567ff",
   "metadata": {},
   "outputs": [],
   "source": []
  }
 ],
 "metadata": {
  "kernelspec": {
   "display_name": "Python 3 (ipykernel)",
   "language": "python",
   "name": "python3"
  },
  "language_info": {
   "codemirror_mode": {
    "name": "ipython",
    "version": 3
   },
   "file_extension": ".py",
   "mimetype": "text/x-python",
   "name": "python",
   "nbconvert_exporter": "python",
   "pygments_lexer": "ipython3",
   "version": "3.11.5"
  }
 },
 "nbformat": 4,
 "nbformat_minor": 5
}
